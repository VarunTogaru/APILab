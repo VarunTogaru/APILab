{
  "cells": [
    {
      "cell_type": "markdown",
      "id": "YHwTFoDB04MH",
      "metadata": {
        "id": "YHwTFoDB04MH"
      },
      "source": [
        "# Using API Calls in Python with JSON and DataFrames - University Data Example\n",
        "In this notebook, we will make API requests to the Hipolabs Universities API, parse the JSON response, and convert it into Pandas DataFrames for analysis and visualization."
      ]
    },
    {
      "cell_type": "markdown",
      "id": "CDPNEdDF04MJ",
      "metadata": {
        "id": "CDPNEdDF04MJ"
      },
      "source": [
        "### Step 1: Making the API Call to Fetch University Data"
      ]
    },
    {
      "cell_type": "code",
      "execution_count": 1,
      "id": "pY6qqMVA04MJ",
      "metadata": {
        "colab": {
          "base_uri": "https://localhost:8080/"
        },
        "id": "pY6qqMVA04MJ",
        "outputId": "9a068cab-cfd3-4a1a-eb44-bc507ff3fd6d"
      },
      "outputs": [
        {
          "name": "stdout",
          "output_type": "stream",
          "text": [
            "API request successful!\n"
          ]
        }
      ],
      "source": [
        "import requests\n",
        "import json\n",
        "import pandas as pd\n",
        "\n",
        "# API endpoint for fetching universities\n",
        "url = \"http://universities.hipolabs.com/search?country=United%20States\"\n",
        "\n",
        "# Make the GET request\n",
        "response = requests.get(url)\n",
        "\n",
        "# Check the status code\n",
        "if response.status_code == 200:\n",
        "    print(\"API request successful!\")\n",
        "else:\n",
        "    print(f\"Failed to retrieve data: {response.status_code}\")"
      ]
    },
    {
      "cell_type": "markdown",
      "id": "N7564Ydt04MK",
      "metadata": {
        "id": "N7564Ydt04MK"
      },
      "source": [
        "### Step 2: Parsing the JSON Response"
      ]
    },
    {
      "cell_type": "code",
      "execution_count": 2,
      "id": "VnNhC0LN04MK",
      "metadata": {
        "colab": {
          "base_uri": "https://localhost:8080/"
        },
        "id": "VnNhC0LN04MK",
        "outputId": "ca830ac5-cc00-4207-caf8-043a97f82baa"
      },
      "outputs": [
        {
          "name": "stdout",
          "output_type": "stream",
          "text": [
            "{\n",
            "  \"domains\": [\n",
            "    \"marywood.edu\"\n",
            "  ],\n",
            "  \"state-province\": null,\n",
            "  \"name\": \"Marywood University\",\n",
            "  \"web_pages\": [\n",
            "    \"http://www.marywood.edu\"\n",
            "  ],\n",
            "  \"country\": \"United States\",\n",
            "  \"alpha_two_code\": \"US\"\n",
            "}\n"
          ]
        }
      ],
      "source": [
        "# Parse the JSON response\n",
        "university_data = response.json()\n",
        "\n",
        "# Pretty-print the first university\n",
        "print(json.dumps(university_data[0], indent=2))"
      ]
    },
    {
      "cell_type": "markdown",
      "id": "LpvYuFhm04MK",
      "metadata": {
        "id": "LpvYuFhm04MK"
      },
      "source": [
        "### Step 3: Converting the JSON Data to a DataFrame"
      ]
    },
    {
      "cell_type": "code",
      "execution_count": 3,
      "id": "6TXNwd7L04MK",
      "metadata": {
        "colab": {
          "base_uri": "https://localhost:8080/",
          "height": 656
        },
        "id": "6TXNwd7L04MK",
        "outputId": "0f3efd09-fc26-42ed-a8da-ccc34de785b2"
      },
      "outputs": [
        {
          "name": "stdout",
          "output_type": "stream",
          "text": [
            "            domains state-province                                   name  \\\n",
            "0    [marywood.edu]           None                    Marywood University   \n",
            "1  [lindenwood.edu]           None                  Lindenwood University   \n",
            "2    [sullivan.edu]           None                    Sullivan University   \n",
            "3        [fscj.edu]           None  Florida State College at Jacksonville   \n",
            "4      [xavier.edu]           None                      Xavier University   \n",
            "\n",
            "                      web_pages        country alpha_two_code  \n",
            "0     [http://www.marywood.edu]  United States             US  \n",
            "1  [http://www.lindenwood.edu/]  United States             US  \n",
            "2       [https://sullivan.edu/]  United States             US  \n",
            "3       [https://www.fscj.edu/]  United States             US  \n",
            "4     [https://www.xavier.edu/]  United States             US  \n"
          ]
        },
        {
          "data": {
            "text/html": [
              "<div>\n",
              "<style scoped>\n",
              "    .dataframe tbody tr th:only-of-type {\n",
              "        vertical-align: middle;\n",
              "    }\n",
              "\n",
              "    .dataframe tbody tr th {\n",
              "        vertical-align: top;\n",
              "    }\n",
              "\n",
              "    .dataframe thead th {\n",
              "        text-align: right;\n",
              "    }\n",
              "</style>\n",
              "<table border=\"1\" class=\"dataframe\">\n",
              "  <thead>\n",
              "    <tr style=\"text-align: right;\">\n",
              "      <th></th>\n",
              "      <th>domains</th>\n",
              "      <th>state-province</th>\n",
              "      <th>name</th>\n",
              "      <th>web_pages</th>\n",
              "      <th>country</th>\n",
              "      <th>alpha_two_code</th>\n",
              "    </tr>\n",
              "  </thead>\n",
              "  <tbody>\n",
              "    <tr>\n",
              "      <th>0</th>\n",
              "      <td>[marywood.edu]</td>\n",
              "      <td>None</td>\n",
              "      <td>Marywood University</td>\n",
              "      <td>[http://www.marywood.edu]</td>\n",
              "      <td>United States</td>\n",
              "      <td>US</td>\n",
              "    </tr>\n",
              "    <tr>\n",
              "      <th>1</th>\n",
              "      <td>[lindenwood.edu]</td>\n",
              "      <td>None</td>\n",
              "      <td>Lindenwood University</td>\n",
              "      <td>[http://www.lindenwood.edu/]</td>\n",
              "      <td>United States</td>\n",
              "      <td>US</td>\n",
              "    </tr>\n",
              "    <tr>\n",
              "      <th>2</th>\n",
              "      <td>[sullivan.edu]</td>\n",
              "      <td>None</td>\n",
              "      <td>Sullivan University</td>\n",
              "      <td>[https://sullivan.edu/]</td>\n",
              "      <td>United States</td>\n",
              "      <td>US</td>\n",
              "    </tr>\n",
              "    <tr>\n",
              "      <th>3</th>\n",
              "      <td>[fscj.edu]</td>\n",
              "      <td>None</td>\n",
              "      <td>Florida State College at Jacksonville</td>\n",
              "      <td>[https://www.fscj.edu/]</td>\n",
              "      <td>United States</td>\n",
              "      <td>US</td>\n",
              "    </tr>\n",
              "    <tr>\n",
              "      <th>4</th>\n",
              "      <td>[xavier.edu]</td>\n",
              "      <td>None</td>\n",
              "      <td>Xavier University</td>\n",
              "      <td>[https://www.xavier.edu/]</td>\n",
              "      <td>United States</td>\n",
              "      <td>US</td>\n",
              "    </tr>\n",
              "    <tr>\n",
              "      <th>...</th>\n",
              "      <td>...</td>\n",
              "      <td>...</td>\n",
              "      <td>...</td>\n",
              "      <td>...</td>\n",
              "      <td>...</td>\n",
              "      <td>...</td>\n",
              "    </tr>\n",
              "    <tr>\n",
              "      <th>2330</th>\n",
              "      <td>[wnc.edu]</td>\n",
              "      <td>None</td>\n",
              "      <td>Western Nevada College</td>\n",
              "      <td>[https://wnc.edu/]</td>\n",
              "      <td>United States</td>\n",
              "      <td>US</td>\n",
              "    </tr>\n",
              "    <tr>\n",
              "      <th>2331</th>\n",
              "      <td>[westernu.edu]</td>\n",
              "      <td>None</td>\n",
              "      <td>Western University of Health Sciences</td>\n",
              "      <td>[https://www.westernu.edu/]</td>\n",
              "      <td>United States</td>\n",
              "      <td>US</td>\n",
              "    </tr>\n",
              "    <tr>\n",
              "      <th>2332</th>\n",
              "      <td>[stmarytx.edu]</td>\n",
              "      <td>Texas</td>\n",
              "      <td>St. Mary's University</td>\n",
              "      <td>[https://www.stmarytx.edu/]</td>\n",
              "      <td>United States</td>\n",
              "      <td>US</td>\n",
              "    </tr>\n",
              "    <tr>\n",
              "      <th>2333</th>\n",
              "      <td>[southflorida.edu]</td>\n",
              "      <td>Florida</td>\n",
              "      <td>South Florida State College</td>\n",
              "      <td>[https://www.southflorida.edu/]</td>\n",
              "      <td>United States</td>\n",
              "      <td>US</td>\n",
              "    </tr>\n",
              "    <tr>\n",
              "      <th>2334</th>\n",
              "      <td>[alvernia.edu]</td>\n",
              "      <td>Pennsylvania</td>\n",
              "      <td>Alvernia University</td>\n",
              "      <td>[https://www.alvernia.edu/]</td>\n",
              "      <td>United States</td>\n",
              "      <td>US</td>\n",
              "    </tr>\n",
              "  </tbody>\n",
              "</table>\n",
              "<p>2335 rows × 6 columns</p>\n",
              "</div>"
            ],
            "text/plain": [
              "                 domains state-province  \\\n",
              "0         [marywood.edu]           None   \n",
              "1       [lindenwood.edu]           None   \n",
              "2         [sullivan.edu]           None   \n",
              "3             [fscj.edu]           None   \n",
              "4           [xavier.edu]           None   \n",
              "...                  ...            ...   \n",
              "2330           [wnc.edu]           None   \n",
              "2331      [westernu.edu]           None   \n",
              "2332      [stmarytx.edu]          Texas   \n",
              "2333  [southflorida.edu]        Florida   \n",
              "2334      [alvernia.edu]   Pennsylvania   \n",
              "\n",
              "                                       name                        web_pages  \\\n",
              "0                       Marywood University        [http://www.marywood.edu]   \n",
              "1                     Lindenwood University     [http://www.lindenwood.edu/]   \n",
              "2                       Sullivan University          [https://sullivan.edu/]   \n",
              "3     Florida State College at Jacksonville          [https://www.fscj.edu/]   \n",
              "4                         Xavier University        [https://www.xavier.edu/]   \n",
              "...                                     ...                              ...   \n",
              "2330                 Western Nevada College               [https://wnc.edu/]   \n",
              "2331  Western University of Health Sciences      [https://www.westernu.edu/]   \n",
              "2332                  St. Mary's University      [https://www.stmarytx.edu/]   \n",
              "2333            South Florida State College  [https://www.southflorida.edu/]   \n",
              "2334                    Alvernia University      [https://www.alvernia.edu/]   \n",
              "\n",
              "            country alpha_two_code  \n",
              "0     United States             US  \n",
              "1     United States             US  \n",
              "2     United States             US  \n",
              "3     United States             US  \n",
              "4     United States             US  \n",
              "...             ...            ...  \n",
              "2330  United States             US  \n",
              "2331  United States             US  \n",
              "2332  United States             US  \n",
              "2333  United States             US  \n",
              "2334  United States             US  \n",
              "\n",
              "[2335 rows x 6 columns]"
            ]
          },
          "execution_count": 3,
          "metadata": {},
          "output_type": "execute_result"
        }
      ],
      "source": [
        "# Convert JSON data to a DataFrame\n",
        "df = pd.DataFrame(university_data)\n",
        "\n",
        "# Display the first few rows of the DataFrame\n",
        "print(df.head())\n",
        "df"
      ]
    },
    {
      "cell_type": "markdown",
      "id": "u_DHkVg004ML",
      "metadata": {
        "id": "u_DHkVg004ML"
      },
      "source": [
        "### Step 4: Basic Data Analysis"
      ]
    },
    {
      "cell_type": "code",
      "execution_count": 4,
      "id": "ovs5UIKs04ML",
      "metadata": {
        "colab": {
          "base_uri": "https://localhost:8080/"
        },
        "id": "ovs5UIKs04ML",
        "outputId": "4151de18-8710-40ef-a131-469ee35bfc52"
      },
      "outputs": [
        {
          "name": "stdout",
          "output_type": "stream",
          "text": [
            "Pennsylvania            32\n",
            "NY                       9\n",
            "California               5\n",
            "Texas                    5\n",
            "New York, NY             4\n",
            "New York                 3\n",
            "Florida                  3\n",
            "North Carolina           3\n",
            "Michigan                 3\n",
            "Ohio                     3\n",
            "Illinois                 2\n",
            "CA                       2\n",
            "Washington               2\n",
            "GA                       2\n",
            "TX                       2\n",
            "ND                       1\n",
            "Missouri                 1\n",
            "Maine                    1\n",
            "MA                       1\n",
            "Georgia                  1\n",
            "MI                       1\n",
            "New Hampshire            1\n",
            "Virginia                 1\n",
            "South Carolina           1\n",
            "IN                       1\n",
            "Colorado                 1\n",
            "Kansas                   1\n",
            "Indiana                  1\n",
            "VA                       1\n",
            "Iowa                     1\n",
            "NV                       1\n",
            "Utah                     1\n",
            "Salt Lake City, Utah     1\n",
            "Name: state-province, dtype: int64\n"
          ]
        }
      ],
      "source": [
        "# Count the number of universities by state\n",
        "state_counts = df['state-province'].value_counts()\n",
        "print(state_counts)"
      ]
    },
    {
      "cell_type": "markdown",
      "id": "cAPYEMN304ML",
      "metadata": {
        "id": "cAPYEMN304ML"
      },
      "source": [
        "### Step 5: Data Visualization"
      ]
    },
    {
      "cell_type": "code",
      "execution_count": 5,
      "id": "g7yUOl-804ML",
      "metadata": {
        "colab": {
          "base_uri": "https://localhost:8080/",
          "height": 687
        },
        "id": "g7yUOl-804ML",
        "outputId": "292aac5b-aa59-40b1-dd7d-679dc00bfbff"
      },
      "outputs": [
        {
          "data": {
            "image/png": "[encoded data removed]",
            "text/plain": [
              "<Figure size 1000x600 with 1 Axes>"
            ]
          },
          "metadata": {},
          "output_type": "display_data"
        }
      ],
      "source": [
        "import matplotlib.pyplot as plt\n",
        "\n",
        "# Plot the number of universities per state\n",
        "state_counts.plot(kind='bar', figsize=(10, 6))\n",
        "plt.title(\"Number of Universities per State\")\n",
        "plt.xlabel(\"State\")\n",
        "plt.ylabel(\"Number of Universities\")\n",
        "plt.show()"
      ]
    },
    {
      "cell_type": "markdown",
      "id": "WhSWvUWS04ML",
      "metadata": {
        "id": "WhSWvUWS04ML"
      },
      "source": [
        "### Step 6: Extending to Multiple Countries"
      ]
    },
    {
      "cell_type": "code",
      "execution_count": 6,
      "id": "ctTMYEJp04ML",
      "metadata": {
        "colab": {
          "base_uri": "https://localhost:8080/"
        },
        "id": "ctTMYEJp04ML",
        "outputId": "08450e24-fbb9-4f6c-fcc5-d5437a3209b6"
      },
      "outputs": [
        {
          "name": "stdout",
          "output_type": "stream",
          "text": [
            "            domains state-province                                   name  \\\n",
            "0    [marywood.edu]           None                    Marywood University   \n",
            "1  [lindenwood.edu]           None                  Lindenwood University   \n",
            "2    [sullivan.edu]           None                    Sullivan University   \n",
            "3        [fscj.edu]           None  Florida State College at Jacksonville   \n",
            "4      [xavier.edu]           None                      Xavier University   \n",
            "\n",
            "                      web_pages        country alpha_two_code  \n",
            "0     [http://www.marywood.edu]  United States             US  \n",
            "1  [http://www.lindenwood.edu/]  United States             US  \n",
            "2       [https://sullivan.edu/]  United States             US  \n",
            "3       [https://www.fscj.edu/]  United States             US  \n",
            "4     [https://www.xavier.edu/]  United States             US  \n"
          ]
        }
      ],
      "source": [
        "countries = [\"United States\", \"Canada\", \"Australia\", \"United Kingdom\"]\n",
        "university_list = []\n",
        "\n",
        "for country in countries:\n",
        "    response = requests.get(f\"http://universities.hipolabs.com/search?country={country}\")\n",
        "    data = response.json()\n",
        "\n",
        "    for uni in data:\n",
        "        uni['country'] = country\n",
        "        university_list.append(uni)\n",
        "\n",
        "# Convert to DataFrame\n",
        "df_universities = pd.DataFrame(university_list)\n",
        "\n",
        "# Display the first few rows\n",
        "print(df_universities.head())"
      ]
    },
    {
      "cell_type": "markdown",
      "id": "PIgW1_1p04ML",
      "metadata": {
        "id": "PIgW1_1p04ML"
      },
      "source": [
        "### Step 7: Visualizing University Counts by Country"
      ]
    },
    {
      "cell_type": "code",
      "execution_count": 7,
      "id": "TLQPcYvY04ML",
      "metadata": {
        "colab": {
          "base_uri": "https://localhost:8080/",
          "height": 661
        },
        "id": "TLQPcYvY04ML",
        "outputId": "e152e5f8-86f5-4afe-865a-2f6c67fba02e"
      },
      "outputs": [
        {
          "data": {
            "image/png": "[encoded data removed]",
            "text/plain": [
              "<Figure size 1000x600 with 1 Axes>"
            ]
          },
          "metadata": {},
          "output_type": "display_data"
        }
      ],
      "source": [
        "# Count the number of universities per country\n",
        "country_counts = df_universities['country'].value_counts()\n",
        "\n",
        "# Plot the data\n",
        "country_counts.plot(kind='bar', figsize=(10, 6))\n",
        "plt.title(\"Number of Universities per Country\")\n",
        "plt.xlabel(\"Country\")\n",
        "plt.ylabel(\"Number of Universities\")\n",
        "plt.show()"
      ]
    },
    {
      "cell_type": "markdown",
      "id": "b-dBnRNT1MQF",
      "metadata": {
        "id": "b-dBnRNT1MQF"
      },
      "source": [
        "###Step 8: Customizing the Workshop\n",
        "\n",
        "You can experiment further by:\n",
        "\n",
        "\n",
        "\n",
        "*   Fetching data for specific regions.\n",
        "*   Analyzing other attributes such as university domains.\n",
        "*   Creating visualizations to compare universities in different regions.\n",
        "\n"
      ]
    },
    {
      "cell_type": "markdown",
      "id": "iwD_LJNy2L7u",
      "metadata": {
        "id": "iwD_LJNy2L7u"
      },
      "source": [
        "For the followig you will need to get your API key from  https://financeapi.net/\n",
        "Examine the demo page and sample data to be returned"
      ]
    },
    {
      "cell_type": "code",
      "execution_count": 8,
      "id": "80xOdsHQ2SzU",
      "metadata": {
        "id": "80xOdsHQ2SzU"
      },
      "outputs": [],
      "source": [
        "import json\n",
        "import pandas as pd\n",
        "import json\n",
        "import requests"
      ]
    },
    {
      "cell_type": "code",
      "execution_count": 9,
      "id": "qdoW9lbM2Wes",
      "metadata": {
        "colab": {
          "base_uri": "https://localhost:8080/"
        },
        "id": "qdoW9lbM2Wes",
        "outputId": "58181931-6511-4ec3-ec96-ec0ea2c1ec69"
      },
      "outputs": [],
      "source": [
        "#get stock from the user\n",
        "stock=input()"
      ]
    },
    {
      "cell_type": "code",
      "execution_count": 10,
      "id": "Jb5ddkbl2YWF",
      "metadata": {
        "colab": {
          "base_uri": "https://localhost:8080/"
        },
        "id": "Jb5ddkbl2YWF",
        "outputId": "0bf29e45-38da-4580-c0d7-e16789090027"
      },
      "outputs": [
        {
          "name": "stdout",
          "output_type": "stream",
          "text": [
            "The Stock we will research is:AAPL\n"
          ]
        }
      ],
      "source": [
        "print(\"The Stock we will research is:\" + stock)"
      ]
    },
    {
      "cell_type": "code",
      "execution_count": 11,
      "id": "pFKgjZlO2atU",
      "metadata": {
        "colab": {
          "base_uri": "https://localhost:8080/"
        },
        "id": "pFKgjZlO2atU",
        "outputId": "28961180-de24-4f09-f819-255b87a87f6a"
      },
      "outputs": [
        {
          "name": "stdout",
          "output_type": "stream",
          "text": [
            "{\"quoteResponse\":{\"result\":[{\"language\":\"en-US\",\"region\":\"US\",\"quoteType\":\"EQUITY\",\"typeDisp\":\"Equity\",\"quoteSourceName\":\"Nasdaq Real Time Price\",\"triggerable\":true,\"customPriceAlertConfidence\":\"HIGH\",\"currency\":\"USD\",\"regularMarketChangePercent\":1.6479895,\"regularMarketPrice\":231.3,\"marketState\":\"POSTPOST\",\"exchange\":\"NMS\",\"shortName\":\"Apple Inc.\",\"longName\":\"Apple Inc.\",\"messageBoardId\":\"finmb_24937\",\"exchangeTimezoneName\":\"America/New_York\",\"exchangeTimezoneShortName\":\"EDT\",\"gmtOffSetMilliseconds\":-14400000,\"market\":\"us_market\",\"esgPopulated\":false,\"hasPrePostMarketData\":true,\"firstTradeDateMilliseconds\":345479400000,\"priceHint\":2,\"postMarketChangePercent\":-0.0108124,\"postMarketTime\":1728950399,\"postMarketPrice\":231.275,\"postMarketChange\":-0.0250092,\"regularMarketChange\":3.75,\"regularMarketTime\":1728936001,\"regularMarketDayHigh\":231.7278,\"regularMarketDayRange\":\"228.6 - 231.7278\",\"regularMarketDayLow\":228.6,\"regularMarketVolume\":32607921,\"regularMarketPreviousClose\":227.55,\"bid\":231.26,\"ask\":231.39,\"bidSize\":2,\"askSize\":2,\"fullExchangeName\":\"NasdaqGS\",\"financialCurrency\":\"USD\",\"regularMarketOpen\":228.7,\"averageDailyVolume3Month\":51776510,\"averageDailyVolume10Day\":37219900,\"fiftyTwoWeekLowChange\":67.22,\"fiftyTwoWeekLowChangePercent\":0.40967822,\"fiftyTwoWeekRange\":\"164.08 - 237.23\",\"fiftyTwoWeekHighChange\":-5.9299927,\"fiftyTwoWeekHighChangePercent\":-0.024996808,\"fiftyTwoWeekLow\":164.08,\"fiftyTwoWeekHigh\":237.23,\"fiftyTwoWeekChangePercent\":30.567312,\"dividendDate\":1723680000,\"earningsTimestamp\":1730404800,\"earningsTimestampStart\":1730404800,\"earningsTimestampEnd\":1730404800,\"earningsCallTimestampStart\":1730408400,\"earningsCallTimestampEnd\":1730408400,\"isEarningsDateEstimate\":false,\"trailingAnnualDividendRate\":0.97,\"trailingPE\":35.151978,\"dividendRate\":1.0,\"trailingAnnualDividendYield\":0.0042627994,\"dividendYield\":0.43,\"epsTrailingTwelveMonths\":6.58,\"epsForward\":7.48,\"epsCurrentYear\":6.67,\"priceEpsCurrentYear\":34.67766,\"sharesOutstanding\":15204100096,\"bookValue\":4.382,\"fiftyDayAverage\":223.6666,\"fiftyDayAverageChange\":7.6334076,\"fiftyDayAverageChangePercent\":0.03412851,\"twoHundredDayAverage\":198.94534,\"twoHundredDayAverageChange\":32.35466,\"twoHundredDayAverageChangePercent\":0.1626309,\"marketCap\":3516708421632,\"forwardPE\":30.92246,\"priceToBook\":52.78412,\"sourceInterval\":15,\"exchangeDataDelayedBy\":0,\"averageAnalystRating\":\"2.1 - Buy\",\"tradeable\":false,\"cryptoTradeable\":false,\"displayName\":\"Apple\",\"symbol\":\"AAPL\"}],\"error\":null}}\n"
          ]
        }
      ],
      "source": [
        "apikey=\"yourkey\"\n",
        "\n",
        "url = \"https://yfapi.net/v6/finance/quote\"\n",
        "\n",
        "querystring = {\"symbols\":stock}\n",
        "\n",
        "headers = {\n",
        "    'x-api-key': \"KEY\"\n",
        "    }\n",
        "\n",
        "response = requests.request(\"GET\", url, headers=headers, params=querystring)\n",
        "\n",
        "print(response.text)"
      ]
    },
    {
      "cell_type": "code",
      "execution_count": 12,
      "id": "SVJqBY7y2eSs",
      "metadata": {
        "id": "SVJqBY7y2eSs"
      },
      "outputs": [
        {
          "name": "stdout",
          "output_type": "stream",
          "text": [
            "Apple Inc. Price:$231.3\n"
          ]
        }
      ],
      "source": [
        "#print the company name and price\n",
        "stock_json = response.json()\n",
        "print(stock_json['quoteResponse']['result'][0][\"longName\"] + \" Price:$\" + str(stock_json['quoteResponse']['result'][0][\"regularMarketPrice\"]))"
      ]
    },
    {
      "cell_type": "markdown",
      "id": "9sqZZPI12leh",
      "metadata": {
        "id": "9sqZZPI12leh"
      },
      "source": [
        "Ask the user for a list of stocks and pass that answer back to the user\n"
      ]
    },
    {
      "cell_type": "code",
      "execution_count": 13,
      "id": "7f81dfbe",
      "metadata": {},
      "outputs": [
        {
          "name": "stdout",
          "output_type": "stream",
          "text": [
            "Stock Information for Apple Inc.:\n",
            "Price: $231.3\n",
            "Market Cap: 3516708421632\n",
            "Volume: 32607921\n",
            "----------------------------------------\n",
            "Stock Information for Microsoft Corporation:\n",
            "Price: $419.14\n",
            "Market Cap: 3115484446720\n",
            "Volume: 16417434\n",
            "----------------------------------------\n"
          ]
        }
      ],
      "source": [
        "def fetch_stock_info(symbols):\n",
        "    url = \"https://yfapi.net/v6/finance/quote\"\n",
        "    headers = {\n",
        "        'x-api-key': \"KEY\" \n",
        "    }\n",
        "    querystring = {\"symbols\": ','.join(symbols)}\n",
        "\n",
        "    response = requests.get(url, headers=headers, params=querystring)\n",
        "\n",
        "    if response.status_code == 200:\n",
        "        return response.json()\n",
        "    else:\n",
        "        print(f\"Error: {response.status_code}\")\n",
        "        return None\n",
        "\n",
        "# Ask the user for a list of stock symbols\n",
        "user_input = input(\"Please enter a list of stock symbols separated by commas (e.g., AAPL, GOOGL, MSFT): \")\n",
        "stock_list = [stock.strip().upper() for stock in user_input.split(',')]\n",
        "\n",
        "# Display stock information for each symbol\n",
        "stock_data = fetch_stock_info(stock_list)\n",
        "\n",
        "if stock_data:\n",
        "    results = stock_data['quoteResponse']['result']\n",
        "    for result in results:\n",
        "        name = result.get(\"longName\", \"N/A\")\n",
        "        price = result.get(\"regularMarketPrice\", \"N/A\")\n",
        "        market_cap = result.get(\"marketCap\", \"N/A\")\n",
        "        volume = result.get(\"regularMarketVolume\", \"N/A\")\n",
        "\n",
        "        print(f\"Stock Information for {name}:\")\n",
        "        print(f\"Price: ${price}\")\n",
        "        print(f\"Market Cap: {market_cap}\")\n",
        "        print(f\"Volume: {volume}\")\n",
        "        print(\"-\" * 40)"
      ]
    }
  ],
  "metadata": {
    "colab": {
      "provenance": []
    },
    "kernelspec": {
      "display_name": "Python 3.8.0 64-bit",
      "language": "python",
      "name": "python3"
    },
    "language_info": {
      "codemirror_mode": {
        "name": "ipython",
        "version": 3
      },
      "file_extension": ".py",
      "mimetype": "text/x-python",
      "name": "python",
      "nbconvert_exporter": "python",
      "pygments_lexer": "ipython3",
      "version": "3.8.0"
    },
    "vscode": {
      "interpreter": {
        "hash": "082e9a3bcad0a290d0001e938aa60b99250c6c2ef33a923c00b70f9826caf4b7"
      }
    }
  },
  "nbformat": 4,
  "nbformat_minor": 5
}
